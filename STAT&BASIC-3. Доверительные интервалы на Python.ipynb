{
 "cells": [
  {
   "cell_type": "code",
   "execution_count": 16,
   "metadata": {},
   "outputs": [],
   "source": [
    "from scipy.stats import norm\n",
    "import math\n",
    "\n",
    "def confidence_interval_norm(alpha, sigma, n, mean):\n",
    "    value = -norm.ppf(alpha / 2) * sigma / math.sqrt(n)\n",
    "    return int(round(mean - value)), int(round(mean + value))"
   ]
  },
  {
   "cell_type": "code",
   "execution_count": 11,
   "metadata": {},
   "outputs": [],
   "source": [
    "from scipy.stats import t\n",
    "\n",
    "def confidence_interval_t(alpha, s, n, mean):\n",
    "    value = -t.ppf(alpha / 2, n - 1) * s / math.sqrt(n)\n",
    "    return int(round(mean - value)), int(round(mean + value))"
   ]
  },
  {
   "cell_type": "code",
   "execution_count": 12,
   "metadata": {},
   "outputs": [
    {
     "data": {
      "text/plain": [
       "(1818, 2182)"
      ]
     },
     "execution_count": 12,
     "metadata": {},
     "output_type": "execute_result"
    }
   ],
   "source": [
    "alpha = 0.1\n",
    "s = 400\n",
    "mean = 2000\n",
    "n = 15\n",
    "confidence_interval_t(alpha, s, n, mean)"
   ]
  },
  {
   "cell_type": "code",
   "execution_count": 13,
   "metadata": {},
   "outputs": [
    {
     "data": {
      "text/plain": [
       "(1778, 2222)"
      ]
     },
     "execution_count": 13,
     "metadata": {},
     "output_type": "execute_result"
    }
   ],
   "source": [
    "alpha = 0.05\n",
    "confidence_interval_t(alpha, s, n, mean)"
   ]
  },
  {
   "cell_type": "code",
   "execution_count": 14,
   "metadata": {},
   "outputs": [
    {
     "data": {
      "text/plain": [
       "(1693, 2307)"
      ]
     },
     "execution_count": 14,
     "metadata": {},
     "output_type": "execute_result"
    }
   ],
   "source": [
    "alpha = 0.01\n",
    "confidence_interval_t(alpha, s, n, mean)"
   ]
  },
  {
   "cell_type": "code",
   "execution_count": 17,
   "metadata": {},
   "outputs": [
    {
     "data": {
      "text/plain": [
       "(3353, 3727)"
      ]
     },
     "execution_count": 17,
     "metadata": {},
     "output_type": "execute_result"
    }
   ],
   "source": [
    "alpha = 0.01\n",
    "sigma = 1150\n",
    "n = 250\n",
    "mean = 3540\n",
    "confidence_interval_norm(alpha, sigma, n, mean)"
   ]
  },
  {
   "cell_type": "code",
   "execution_count": 38,
   "metadata": {},
   "outputs": [
    {
     "data": {
      "text/plain": [
       "[1.2, 0.2, 1.6, 1.9, -0.4, 0.5, 1.4, 1.7, 2.5, 1.3]"
      ]
     },
     "execution_count": 38,
     "metadata": {},
     "output_type": "execute_result"
    }
   ],
   "source": [
    "X = [1.2, 0.2, 1.6, 1.9, -0.4, 0.5, 1.4, 1.7, 2.5, 1.3]\n",
    "X"
   ]
  },
  {
   "cell_type": "code",
   "execution_count": 47,
   "metadata": {},
   "outputs": [
    {
     "data": {
      "text/plain": [
       "(0.5732883999380967, 1.8067116000619032)"
      ]
     },
     "execution_count": 47,
     "metadata": {},
     "output_type": "execute_result"
    }
   ],
   "source": [
    "import statistics\n",
    "from scipy.stats import t\n",
    "\n",
    "def confidence_interval_t(alpha, s, n, mean):\n",
    "    value = -t.ppf(alpha / 2, n - 1) * s / math.sqrt(n)\n",
    "    return mean - value, mean + value\n",
    "\n",
    "alpha = 0.05\n",
    "s = math.sqrt(statistics.variance(X))\n",
    "mean = statistics.mean(X)\n",
    "n = len(X)\n",
    "confidence_interval_t(alpha, s, n, mean)"
   ]
  },
  {
   "cell_type": "code",
   "execution_count": 48,
   "metadata": {},
   "outputs": [],
   "source": [
    "# 3.8.1\n",
    "n = 189\n",
    "positive = 132"
   ]
  },
  {
   "cell_type": "code",
   "execution_count": 59,
   "metadata": {},
   "outputs": [
    {
     "data": {
      "text/plain": [
       "0.698"
      ]
     },
     "execution_count": 59,
     "metadata": {},
     "output_type": "execute_result"
    }
   ],
   "source": [
    "p = positive / n\n",
    "round(p, 3)"
   ]
  },
  {
   "cell_type": "code",
   "execution_count": 60,
   "metadata": {},
   "outputs": [
    {
     "data": {
      "text/plain": [
       "[0.644, 0.753]"
      ]
     },
     "execution_count": 60,
     "metadata": {},
     "output_type": "execute_result"
    }
   ],
   "source": [
    "alpha = 0.1\n",
    "z = -norm.ppf(alpha / 2)\n",
    "p_gen = [round(p - z * math.sqrt(p * (1-p) / n), 3), round(p + z * math.sqrt(p * (1-p) / n), 3)]\n",
    "p_gen"
   ]
  },
  {
   "cell_type": "code",
   "execution_count": 61,
   "metadata": {},
   "outputs": [
    {
     "data": {
      "text/plain": [
       "1.6448536269514729"
      ]
     },
     "execution_count": 61,
     "metadata": {},
     "output_type": "execute_result"
    }
   ],
   "source": [
    "-norm.ppf(alpha / 2)"
   ]
  },
  {
   "cell_type": "markdown",
   "metadata": {},
   "source": [
    "# 3.9. Находим z-критическое и t-критическое"
   ]
  },
  {
   "cell_type": "code",
   "execution_count": 64,
   "metadata": {},
   "outputs": [],
   "source": [
    "from scipy.stats import norm"
   ]
  },
  {
   "cell_type": "code",
   "execution_count": 65,
   "metadata": {},
   "outputs": [
    {
     "name": "stdout",
     "output_type": "stream",
     "text": [
      "2.1700903775845606\n"
     ]
    }
   ],
   "source": [
    "alpha = 0.03\n",
    "value = -norm.ppf(alpha/2)\n",
    "print(value) # 2.17"
   ]
  },
  {
   "cell_type": "code",
   "execution_count": 67,
   "metadata": {},
   "outputs": [
    {
     "name": "stdout",
     "output_type": "stream",
     "text": [
      "1.9842169515086827\n"
     ]
    }
   ],
   "source": [
    "# 0.95 - доверительный интервал, 100-1 число степеней свободы\n",
    "# для двустороннего t-теста\n",
    "value = t.ppf((1 + 0.95)/2, 100-1)\n",
    "print(value) # 1.98"
   ]
  },
  {
   "cell_type": "code",
   "execution_count": 75,
   "metadata": {},
   "outputs": [],
   "source": [
    "def norm_func(alpha):\n",
    "    return round(-norm.ppf(alpha/2), 2)\n",
    "\n",
    "def z_func(alpha, k):\n",
    "    return round(-t.ppf(alpha/2, k-1), 2)"
   ]
  },
  {
   "cell_type": "code",
   "execution_count": 76,
   "metadata": {},
   "outputs": [
    {
     "data": {
      "text/plain": [
       "1.81"
      ]
     },
     "execution_count": 76,
     "metadata": {},
     "output_type": "execute_result"
    }
   ],
   "source": [
    "norm_func(0.07)"
   ]
  },
  {
   "cell_type": "code",
   "execution_count": 80,
   "metadata": {},
   "outputs": [
    {
     "data": {
      "text/plain": [
       "2.58"
      ]
     },
     "execution_count": 80,
     "metadata": {},
     "output_type": "execute_result"
    }
   ],
   "source": [
    "norm_func(0.01)"
   ]
  },
  {
   "cell_type": "code",
   "execution_count": 78,
   "metadata": {},
   "outputs": [
    {
     "data": {
      "text/plain": [
       "1.98"
      ]
     },
     "execution_count": 78,
     "metadata": {},
     "output_type": "execute_result"
    }
   ],
   "source": [
    "z_func(0.05, 100)"
   ]
  },
  {
   "cell_type": "code",
   "execution_count": 79,
   "metadata": {},
   "outputs": [
    {
     "data": {
      "text/plain": [
       "1.96"
      ]
     },
     "execution_count": 79,
     "metadata": {},
     "output_type": "execute_result"
    }
   ],
   "source": [
    "norm_func(0.05)"
   ]
  },
  {
   "cell_type": "markdown",
   "metadata": {},
   "source": [
    "# 4.7. Практика. Альтернативная и нулевая гипотезы"
   ]
  },
  {
   "cell_type": "code",
   "execution_count": 81,
   "metadata": {},
   "outputs": [],
   "source": [
    "from scipy.stats import norm\n",
    "import math"
   ]
  },
  {
   "cell_type": "code",
   "execution_count": 85,
   "metadata": {},
   "outputs": [
    {
     "data": {
      "text/plain": [
       "-2.0"
      ]
     },
     "execution_count": 85,
     "metadata": {},
     "output_type": "execute_result"
    }
   ],
   "source": [
    "mu = 14\n",
    "n = 64\n",
    "x = 13.5\n",
    "sigma = 2\n",
    "alpha = 0.05\n",
    "z = (x - mu) / (sigma/math.sqrt(n))\n",
    "z"
   ]
  },
  {
   "cell_type": "code",
   "execution_count": 89,
   "metadata": {},
   "outputs": [
    {
     "data": {
      "text/plain": [
       "0.023"
      ]
     },
     "execution_count": 89,
     "metadata": {},
     "output_type": "execute_result"
    }
   ],
   "source": [
    "p = round(norm.cdf(z), 3)\n",
    "p"
   ]
  },
  {
   "cell_type": "code",
   "execution_count": 90,
   "metadata": {},
   "outputs": [
    {
     "data": {
      "text/plain": [
       "-1.92"
      ]
     },
     "execution_count": 90,
     "metadata": {},
     "output_type": "execute_result"
    }
   ],
   "source": [
    "mu = 455\n",
    "n = 16\n",
    "sigma = 12.5\n",
    "x = 449\n",
    "alpha = 0.05\n",
    "z = (x - mu) / (sigma/math.sqrt(n))\n",
    "z"
   ]
  },
  {
   "cell_type": "code",
   "execution_count": 94,
   "metadata": {},
   "outputs": [
    {
     "data": {
      "text/plain": [
       "0.055"
      ]
     },
     "execution_count": 94,
     "metadata": {},
     "output_type": "execute_result"
    }
   ],
   "source": [
    "p = round(2*norm.cdf(z), 3)\n",
    "p"
   ]
  },
  {
   "cell_type": "code",
   "execution_count": 95,
   "metadata": {},
   "outputs": [
    {
     "data": {
      "text/plain": [
       "0.027"
      ]
     },
     "execution_count": 95,
     "metadata": {},
     "output_type": "execute_result"
    }
   ],
   "source": [
    "p = round(norm.cdf(z), 3)\n",
    "p"
   ]
  },
  {
   "cell_type": "markdown",
   "metadata": {},
   "source": [
    "# 4.8. Практика. z-статистика и t-статистика"
   ]
  },
  {
   "cell_type": "markdown",
   "metadata": {},
   "source": [
    "Чтобы найти p-value для t-статистики, применяйте одну из функций:\n",
    "\n",
    "stats.t.cdf(), если в альтернативной гипотезе стоит знак <; эта функция находит площадь «левого хвоста» на графике плотности распределения Стьюдента — площадь под кривой слева от заданной точки;\n",
    "\n",
    "1 - stats.t.cdf(), если в альтернативной гипотезе стоит знак >; эта функция находит площадь «правого хвоста» на графике плотности распределения Стьюдента — площадь под кривой справа от заданной точки;\n",
    "\n",
    "(1 - stats.t.cdf()) * 2, если в альтернативной гипотезе стоит знак ≠; эта функция находит площадь «хвоста» на графике плотности распределения Стьюдента и возвращает ее удвоенное значение.\n",
    "Функции группы stats.t.cdf имеют следующие аргументы:\n",
    "\n",
    "значение t-статистики;\n",
    "количество степеней свободы df — находим как (n-1)."
   ]
  },
  {
   "cell_type": "code",
   "execution_count": 99,
   "metadata": {},
   "outputs": [
    {
     "data": {
      "text/plain": [
       "0.037"
      ]
     },
     "execution_count": 99,
     "metadata": {},
     "output_type": "execute_result"
    }
   ],
   "source": [
    "mu = 6.5\n",
    "n = 25\n",
    "x = 7\n",
    "sigma = 1.4\n",
    "z = (x - mu) / (sigma/math.sqrt(n))\n",
    "p = round(1 - norm.cdf(z), 3)\n",
    "p"
   ]
  },
  {
   "cell_type": "code",
   "execution_count": 102,
   "metadata": {},
   "outputs": [
    {
     "name": "stdout",
     "output_type": "stream",
     "text": [
      "-1.137\n",
      "0.129\n"
     ]
    }
   ],
   "source": [
    "from scipy.stats import t\n",
    "mu = 12000\n",
    "n = 135\n",
    "x = 11500\n",
    "sigma = 5110\n",
    "z = (x - mu) / (sigma/math.sqrt(n))\n",
    "print(round(z,3))\n",
    "p = round(t.cdf(z, n-1), 3)\n",
    "print(p)"
   ]
  },
  {
   "cell_type": "code",
   "execution_count": 103,
   "metadata": {},
   "outputs": [],
   "source": [
    "X = [6.1, 9.2, 11.5, 8.6, 12.1, 3.9, 8.4, 10.1, 9.4, 8.9]"
   ]
  },
  {
   "cell_type": "code",
   "execution_count": 105,
   "metadata": {},
   "outputs": [
    {
     "name": "stdout",
     "output_type": "stream",
     "text": [
      "-0.647\n",
      "0.267\n"
     ]
    }
   ],
   "source": [
    "import statistics\n",
    "from scipy.stats import t\n",
    "mu = 10\n",
    "n = len(X)\n",
    "x = sum(X) / len(X)\n",
    "sigma = statistics.variance(X)\n",
    "z = (x - mu) / (sigma/math.sqrt(n))\n",
    "print(round(z,3))\n",
    "p = round(t.cdf(z, n-1), 3)\n",
    "print(p)"
   ]
  },
  {
   "cell_type": "code",
   "execution_count": 107,
   "metadata": {},
   "outputs": [
    {
     "name": "stdout",
     "output_type": "stream",
     "text": [
      "-1.394\n",
      "0.082\n"
     ]
    }
   ],
   "source": [
    "p = 0.75\n",
    "n = 125\n",
    "pos = 87\n",
    "ps = pos/n\n",
    "z = (ps - p)/math.sqrt(p*(1-p)/n)\n",
    "print(round(z, 3))\n",
    "p = round(norm.cdf(z), 3)\n",
    "print(p)"
   ]
  },
  {
   "cell_type": "code",
   "execution_count": 108,
   "metadata": {},
   "outputs": [],
   "source": [
    "from statsmodels.stats import weightstats "
   ]
  },
  {
   "cell_type": "markdown",
   "metadata": {},
   "source": [
    "Чтобы сделать тест z-test, нужно использовать weightstats.CompareMeans.ztest_ind():\n",
    "\n",
    "weightstats.CompareMeans.ztest_ind() – для формулы ниже. Используется крайне редко, только если известны истинные стандартные отклонения.\n",
    "\n",
    "Чтобы сделать тест t-test, нужно использовать weightstats.ttest_ind():\n",
    "\n",
    " weightstats.ttest_ind() – для вот этой формулы:\n"
   ]
  },
  {
   "cell_type": "code",
   "execution_count": 115,
   "metadata": {},
   "outputs": [],
   "source": [
    "import pandas as pd\n",
    "df = pd.DataFrame({\n",
    "    'x': [6.1, 9.2, 11.5, 8.6, 12.1, 3.9, 8.4, 10.1, 9.4, 8.9],\n",
    "    'y': [7.3, 8.7, 12.6, 6.8, 12, 6.9, 10.2, 17.1, 9.2, 11.6]\n",
    "})"
   ]
  },
  {
   "cell_type": "code",
   "execution_count": 119,
   "metadata": {},
   "outputs": [
    {
     "data": {
      "text/plain": [
       "(-1.120432065446935, 0.27840903994521154, 16.673890238780608)"
      ]
     },
     "execution_count": 119,
     "metadata": {},
     "output_type": "execute_result"
    }
   ],
   "source": [
    " weightstats.ttest_ind(df['x'], df['y'], usevar='unequal')"
   ]
  },
  {
   "attachments": {
    "image.png": {
     "image/png": "[encoded data removed]"
    }
   },
   "cell_type": "markdown",
   "metadata": {},
   "source": [
    "![image.png](attachment:image.png)"
   ]
  },
  {
   "cell_type": "code",
   "execution_count": 121,
   "metadata": {},
   "outputs": [],
   "source": [
    "ay = 62\n",
    "an = 38\n",
    "by = 29\n",
    "bn = 71"
   ]
  },
  {
   "cell_type": "code",
   "execution_count": 122,
   "metadata": {},
   "outputs": [],
   "source": [
    "p1 = ay / (ay + an)\n",
    "p2 = by / (by + bn)\n",
    "p = (ay + by) / (ay + an + by + bn)"
   ]
  },
  {
   "cell_type": "code",
   "execution_count": 124,
   "metadata": {},
   "outputs": [
    {
     "name": "stdout",
     "output_type": "stream",
     "text": [
      "4.69\n"
     ]
    }
   ],
   "source": [
    "z = (p1 - p2) / (math.sqrt(p*(1-p)) * math.sqrt(1/(ay + an) + 1/(by + bn)))\n",
    "print(round(z, 2))"
   ]
  },
  {
   "cell_type": "code",
   "execution_count": 126,
   "metadata": {},
   "outputs": [
    {
     "data": {
      "text/plain": [
       "1.3935165942280392e-06"
      ]
     },
     "execution_count": 126,
     "metadata": {},
     "output_type": "execute_result"
    }
   ],
   "source": [
    "1-norm.cdf(z)"
   ]
  },
  {
   "cell_type": "code",
   "execution_count": null,
   "metadata": {},
   "outputs": [],
   "source": []
  }
 ],
 "metadata": {
  "kernelspec": {
   "display_name": "Python 3",
   "language": "python",
   "name": "python3"
  },
  "language_info": {
   "codemirror_mode": {
    "name": "ipython",
    "version": 3
   },
   "file_extension": ".py",
   "mimetype": "text/x-python",
   "name": "python",
   "nbconvert_exporter": "python",
   "pygments_lexer": "ipython3",
   "version": "3.7.4"
  }
 },
 "nbformat": 4,
 "nbformat_minor": 2
}
