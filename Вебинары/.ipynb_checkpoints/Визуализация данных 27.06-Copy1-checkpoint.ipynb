{
 "cells": [
  {
   "cell_type": "markdown",
   "metadata": {},
   "source": [
    "# План\n",
    "1. Matplotlib\n",
    "2. Plotly\n",
    "3. Решение задания"
   ]
  },
  {
   "cell_type": "markdown",
   "metadata": {},
   "source": [
    "# Matplotlib"
   ]
  },
  {
   "cell_type": "markdown",
   "metadata": {},
   "source": [
    "Для начала импортируем модуль matplotlib.\n",
    "\n",
    "Нам потребуется один из его подмодулей, который отвечает за плоские графики - pyplot."
   ]
  },
  {
   "cell_type": "code",
   "execution_count": 1,
   "metadata": {},
   "outputs": [],
   "source": [
    "import  matplotlib.pyplot  as  plt\n",
    "%matplotlib inline"
   ]
  },
  {
   "cell_type": "markdown",
   "metadata": {},
   "source": [
    "Работая с Matplotlib, нам понадобится Numpy. https://numpy.org/\n",
    "\n",
    "Построим простейший график параболы.\n",
    "\n",
    "\n",
    "Создадим множество x и соответствующих им y:"
   ]
  },
  {
   "cell_type": "code",
   "execution_count": 2,
   "metadata": {},
   "outputs": [],
   "source": [
    "import numpy as np\n",
    "x = np.arange(0, 5, 0.1)\n",
    "y = x**2"
   ]
  },
  {
   "cell_type": "code",
   "execution_count": 3,
   "metadata": {},
   "outputs": [
    {
     "data": {
      "image/png": "[encoded data removed]",
      "text/plain": [
       "<Figure size 432x288 with 1 Axes>"
      ]
     },
     "metadata": {
      "needs_background": "light"
     },
     "output_type": "display_data"
    }
   ],
   "source": [
    "#создаем фигуру\n",
    "plt.figure()\n",
    "#задаем график\n",
    "plt.plot(x, y)\n",
    "#рисуем график\n",
    "plt.show()"
   ]
  },
  {
   "cell_type": "code",
   "execution_count": null,
   "metadata": {},
   "outputs": [],
   "source": []
  },
  {
   "cell_type": "markdown",
   "metadata": {},
   "source": [
    "Добавим немного оформления (подписи осей, заголовок и поменяем цвет кривой):"
   ]
  },
  {
   "cell_type": "code",
   "execution_count": null,
   "metadata": {},
   "outputs": [],
   "source": [
    "plt.figure()\n",
    "#Цвет 'r' - red, 'g' - green, 'y' - yellow, как третий аргумент в plot()\n",
    "plt.plot(x, y)\n",
    "#xlabel()\n",
    "\n",
    "#ylabel()\n",
    "\n",
    "#title()\n",
    "\n",
    "plt.show()"
   ]
  },
  {
   "cell_type": "markdown",
   "metadata": {},
   "source": [
    "Также мы можем делать подписи на русском языке\n",
    "\n",
    "Задайте значения подписей:\n",
    "\n",
    "по x - Аргументы\n",
    "\n",
    "по y - Ординаты\n",
    "\n",
    "Название графика - x** 2"
   ]
  },
  {
   "cell_type": "code",
   "execution_count": null,
   "metadata": {},
   "outputs": [],
   "source": []
  },
  {
   "cell_type": "markdown",
   "metadata": {},
   "source": [
    "Заметим, что на самом деле мы построили график по множеству точек, каждая из которых имеет 2 координаты: x, y.\n",
    "\n",
    "Это значит, что мы можем получить эти точки любым удобным для нас способом и хранить их в любой структуре, например, списке."
   ]
  },
  {
   "cell_type": "code",
   "execution_count": null,
   "metadata": {},
   "outputs": [],
   "source": [
    "#Сгенерируем список значений координаты x\n",
    "x =[i for i in range(-10, 10)]"
   ]
  },
  {
   "cell_type": "code",
   "execution_count": null,
   "metadata": {},
   "outputs": [],
   "source": [
    "#Воспользуемся lambda функцией\n",
    "y = list(map(lambda x: x**2, x))"
   ]
  },
  {
   "cell_type": "code",
   "execution_count": 1,
   "metadata": {},
   "outputs": [],
   "source": [
    "#Выведем x y"
   ]
  },
  {
   "cell_type": "markdown",
   "metadata": {},
   "source": [
    "Вновь построим график тем же способом (просто скопируем код):"
   ]
  },
  {
   "cell_type": "code",
   "execution_count": null,
   "metadata": {},
   "outputs": [],
   "source": [
    "#Строим график"
   ]
  },
  {
   "cell_type": "markdown",
   "metadata": {},
   "source": [
    "Можно построить несколько графиков на одном"
   ]
  },
  {
   "cell_type": "code",
   "execution_count": null,
   "metadata": {},
   "outputs": [],
   "source": [
    "plt.figure()\n",
    "plt.plot(x, y, 'r')\n",
    "plt.plot(y, y)\n",
    "plt.plot(y, x, 'g--')\n",
    "plt.xlabel('Аргументы')\n",
    "plt.ylabel('Ординаты')\n",
    "plt.title('Заголовок')\n",
    "plt.show()"
   ]
  },
  {
   "cell_type": "markdown",
   "metadata": {},
   "source": [
    "Поскольку наш получившийся график очень мелкий, давайте его увеличим. \n",
    "\n",
    "Используем аргумент **figsize** для функции **figure**. \n",
    "\n",
    "В него передаём кортеж с размерами нашей фигуры. 1-е значение - ширина в дюймах 2-е значение - высота в дюймах\n",
    "\n",
    "<code>plt.figure(figsize=(13,8))</code>"
   ]
  },
  {
   "cell_type": "code",
   "execution_count": null,
   "metadata": {},
   "outputs": [],
   "source": [
    "#Рисуем"
   ]
  },
  {
   "cell_type": "markdown",
   "metadata": {},
   "source": [
    "Так же мы можем не просто выводить файл для показа в ноутбуке, но и сохранить его, использую функцию **savefig**.\n",
    "\n",
    "<code>plt.savefig('название файла')</code>"
   ]
  },
  {
   "cell_type": "code",
   "execution_count": null,
   "metadata": {},
   "outputs": [],
   "source": [
    "#Напишем код"
   ]
  },
  {
   "cell_type": "markdown",
   "metadata": {},
   "source": [
    "## Объекты в matplotlib"
   ]
  },
  {
   "cell_type": "markdown",
   "metadata": {},
   "source": [
    "Давайте рассмотрим более гибкий способ работы с matplotlib.\n",
    "\n",
    "Создадим объект"
   ]
  },
  {
   "cell_type": "code",
   "execution_count": null,
   "metadata": {},
   "outputs": [],
   "source": [
    "fig = plt.figure()"
   ]
  },
  {
   "cell_type": "markdown",
   "metadata": {},
   "source": [
    "Условно можно считать, что Фигура - это всё изображение, с которым мы работаем.\n",
    "\n",
    "И только часть этого изображения будет графиком.\n",
    "\n",
    "Так часть, которая используется непосредственно для построения графика называется \"осями\". Важно, что если мы добавляем оси с помощью функции add_axes, то нам надо указать координату левого нижнего угла, ширину и высоту прямоугольника осей в долях от всей фигуры.\n",
    "\n",
    "Например, оси на 100% фигуры:"
   ]
  },
  {
   "cell_type": "code",
   "execution_count": null,
   "metadata": {},
   "outputs": [],
   "source": [
    "fig = plt.figure()\n",
    "axes = fig.add_axes([0, 0, 1, 1])\n",
    "axes.plot(x, y, 'r')\n",
    "fig.show()"
   ]
  },
  {
   "cell_type": "code",
   "execution_count": null,
   "metadata": {},
   "outputs": [],
   "source": [
    "#Необязательная часть кода\n",
    "#Убирает комментарий на розовом фоне\n",
    "import warnings; warnings.simplefilter('ignore')"
   ]
  },
  {
   "cell_type": "code",
   "execution_count": null,
   "metadata": {},
   "outputs": [],
   "source": []
  },
  {
   "cell_type": "markdown",
   "metadata": {},
   "source": [
    "Можно нанести на фигуру столько осей с графиками и в тех местах, где мы захотим, например, один внутри другого:"
   ]
  },
  {
   "cell_type": "code",
   "execution_count": null,
   "metadata": {},
   "outputs": [],
   "source": [
    "#Обратите внимание, позже понадобиться для практического задания\n",
    "fig = plt.figure()\n",
    "\n",
    "axes1 = fig.add_axes([0, 0, 1, 1])\n",
    "axes1.plot(x, y, 'r')\n",
    "\n",
    "axes2 = fig.add_axes([0.3, 0.5, 0.4, 0.4])\n",
    "axes2.plot(y, x)"
   ]
  },
  {
   "cell_type": "code",
   "execution_count": null,
   "metadata": {},
   "outputs": [],
   "source": [
    "import seaborn as sns\n",
    "#подключает вид вывода графиков из модуля seaborn\n",
    "sns.set()"
   ]
  },
  {
   "cell_type": "markdown",
   "metadata": {},
   "source": [
    "Можно использовать subplots, которая возвращает сразу фигуры и оси:"
   ]
  },
  {
   "cell_type": "code",
   "execution_count": null,
   "metadata": {},
   "outputs": [],
   "source": [
    "fig, axes = plt.subplots()\n",
    "axes.plot(x, y, 'r')\n"
   ]
  },
  {
   "cell_type": "markdown",
   "metadata": {},
   "source": [
    "Если передать в subplots число, то оно задаст несколько осей одни под другими.\n",
    "\n",
    "Размер фигуры не будет изменён, а пространство в ней будет разделено между осями \"поровну\"."
   ]
  },
  {
   "cell_type": "code",
   "execution_count": null,
   "metadata": {},
   "outputs": [],
   "source": [
    "fig, axes = plt.subplots(2)\n",
    "axes[0].plot(x, y, 'r')\n",
    "axes[1].plot(y, x, 'g')"
   ]
  },
  {
   "cell_type": "markdown",
   "metadata": {},
   "source": [
    "Если передать 2 числа, то:\n",
    "\n",
    "первым будет число \"строк\"\n",
    "\n",
    "вторым число \"столбцов\""
   ]
  },
  {
   "cell_type": "code",
   "execution_count": null,
   "metadata": {},
   "outputs": [],
   "source": [
    "fig, axes = plt.subplots(1, 2)\n",
    "axes[0].plot(x, y, 'r')\n",
    "axes[1].plot(y, x, 'g')"
   ]
  },
  {
   "cell_type": "markdown",
   "metadata": {},
   "source": [
    "Как и для функции figure, для subplots можно задать размер фигуры с помощью figsize"
   ]
  },
  {
   "cell_type": "code",
   "execution_count": null,
   "metadata": {},
   "outputs": [],
   "source": [
    "fig, axes = plt.subplots(1, 2, figsize=(13,8))\n",
    "axes[0].plot(x, y, 'r')\n",
    "axes[1].plot(y, x, 'g')"
   ]
  },
  {
   "cell_type": "markdown",
   "metadata": {},
   "source": [
    "А вод подписи к графику придётся сделать иначе, чем раньше.\n",
    "\n",
    "set_xlabel вместо xlabel\n",
    "\n",
    "set_ylabel вместо ylabel\n",
    "\n",
    "set_title вместо title"
   ]
  },
  {
   "cell_type": "code",
   "execution_count": null,
   "metadata": {},
   "outputs": [],
   "source": [
    "fig, axes = plt.subplots(2, 2, figsize=(13,8))\n",
    "axes[0][0].plot(x, y, 'r')\n",
    "axes[0][0].set_xlabel('x')\n",
    "axes[0][0].set_ylabel('y')\n",
    "axes[0][0].set_title('Title')\n",
    "axes[0][1].plot(y, x, 'g')\n",
    "axes[0][1].set_xlabel('x')\n",
    "axes[0][1].set_ylabel('y')\n",
    "axes[0][1].set_title('Title')\n",
    "\n",
    "#Задайте подписи для следующих графиков\n",
    "axes[1][0].plot(x, x, 'r')\n",
    "\n",
    "axes[1][1].plot(y, y, 'g')\n"
   ]
  },
  {
   "cell_type": "markdown",
   "metadata": {},
   "source": [
    "Как плохо, что заголовки и подписи осей кое-где слиплись...\n",
    "\n",
    "Чтобы это исправить автоматически, можно использовать fig.tight_layout()"
   ]
  },
  {
   "cell_type": "markdown",
   "metadata": {},
   "source": [
    "## Легенда"
   ]
  },
  {
   "cell_type": "code",
   "execution_count": null,
   "metadata": {},
   "outputs": [],
   "source": [
    "# Создадим пару более интересных функций\n",
    "\n",
    "x = np.arange(0.1, 5, 0.1)\n",
    "\n",
    "def f(x):\n",
    "    return x**2\n",
    "\n",
    "def g(x):\n",
    "    return 1/x\n",
    "\n",
    "def h(x):\n",
    "    return x*np.sin(x)"
   ]
  },
  {
   "cell_type": "markdown",
   "metadata": {},
   "source": [
    "Добавим подписи с помощью метода legend. Внутрь передадим список строк, которые являются подписями в том порядке, в котором мы добавляли функции"
   ]
  },
  {
   "cell_type": "code",
   "execution_count": null,
   "metadata": {},
   "outputs": [],
   "source": [
    "fig, axes = plt.subplots(figsize=(13,8))\n",
    "\n",
    "axes.plot(x, f(x), x, g(x))\n",
    "axes.plot(x, h(x))\n",
    "\n",
    "axes.legend([\"f(x)\", \"g(x)\", \"h(x)\"])"
   ]
  },
  {
   "cell_type": "markdown",
   "metadata": {},
   "source": [
    "Или подписи можно передавать сразу в функцию plot, используя аргумент label для тех графиков, к которым мы их хотим задать.\n",
    "\n",
    "Но тогда в конце придётся вызвать функцию legend без параметров."
   ]
  },
  {
   "cell_type": "code",
   "execution_count": null,
   "metadata": {},
   "outputs": [],
   "source": [
    "fig, axes = plt.subplots(figsize=(13,8))\n",
    "\n",
    "axes.plot(x, f(x), label='функция f(x)')\n",
    "axes.plot(x, g(x))\n",
    "axes.plot(x, h(x), label='функция h(x)')\n",
    "\n",
    "axes.legend()"
   ]
  },
  {
   "cell_type": "markdown",
   "metadata": {},
   "source": [
    "Метод legend может принимать необязательный параметр loc, который задаёт местонахождение легенды.\n",
    "axes.legend(loc = 5)"
   ]
  },
  {
   "cell_type": "markdown",
   "metadata": {},
   "source": [
    "В подписях поддерживается Latex разметка, что позволяет вам описывать формулы прямо на графике:"
   ]
  },
  {
   "cell_type": "code",
   "execution_count": null,
   "metadata": {},
   "outputs": [],
   "source": [
    "fig, axes = plt.subplots(figsize=(13,8))\n",
    "\n",
    "axes.plot(x, f(x), label='$f(x) = x^2$')\n",
    "axes.plot(x, g(x), label='$g(x) = \\\\frac{1}{x}$')\n",
    "axes.plot(x, h(x), label='$h(x) = x \\\\cdot sin(x)$')\n",
    "axes.legend(loc = 5)"
   ]
  },
  {
   "cell_type": "markdown",
   "metadata": {},
   "source": [
    "Т.к. шрифт получился мелковат, давайте увеличим его с помощью аргумента fontsize.\n",
    "\n",
    "Этот аргумент есть как у осей, так у заголовков, легенды и других текстовых полей."
   ]
  },
  {
   "cell_type": "code",
   "execution_count": null,
   "metadata": {},
   "outputs": [],
   "source": [
    "fig, axes = plt.subplots(figsize=(13,8))\n",
    "\n",
    "axes.plot(x, f(x), label='$f(x) = x^2$')\n",
    "axes.plot(x, g(x), label='$g(x) = \\\\frac{1}{x}$')\n",
    "axes.plot(x, h(x), label='$h(x) = x \\\\cdot sin(x)$')\n",
    "axes.set_title(u'Заголовок', fontsize=30)\n",
    "axes.set_xlabel('x', fontsize=18)\n",
    "axes.set_ylabel('y')\n",
    "axes.legend(loc = 5, fontsize=18)"
   ]
  },
  {
   "cell_type": "markdown",
   "metadata": {},
   "source": [
    "## Стили кривых и маркеры\n",
    "До сих пор мы либо довольствовались автоматически назначенным цветом для кривой, либо назначали цвет, передавая строку из 1 буквы 3-м параметром (после списка значений аргументов и функций).\n",
    "\n",
    "\"g\" - зелёный\n",
    "\n",
    "\"r\" - красный\n",
    "\n",
    "\"y\" - жёлтый\n",
    "\n",
    "...\n",
    "\n",
    "Также поддерживается возможность задать стиль кривых:"
   ]
  },
  {
   "cell_type": "code",
   "execution_count": null,
   "metadata": {},
   "outputs": [],
   "source": [
    "fig, axes = plt.subplots(figsize=(13,8))\n",
    "\n",
    "axes.plot(x, f(x), 'r--', label='$f(x) = x^2$')\n",
    "axes.plot(x, g(x), 'g-.', label='$g(x) = \\\\frac{1}{x}$')\n",
    "axes.plot(x, h(x), 'yo', label='$h(x) = x \\\\cdot sin(x)$')\n",
    "axes.set_title('Заголовок', fontsize=30)\n",
    "axes.set_xlabel('x', fontsize=18)\n",
    "axes.set_ylabel('y')\n",
    "\n",
    " "
   ]
  },
  {
   "cell_type": "markdown",
   "metadata": {},
   "source": [
    "Вопрос: чего не хватает, чтобы вывелась легенда?"
   ]
  },
  {
   "cell_type": "markdown",
   "metadata": {},
   "source": [
    "Список доступных маркеров (типов линий) - https://matplotlib.org/1.4.1/api/markers_api.html#module-matplotlib.markers"
   ]
  },
  {
   "cell_type": "markdown",
   "metadata": {},
   "source": [
    "Так же можно задать\n",
    "\n",
    "* толщину линии с помощью linewidth или lw\n",
    "* стиль линии с помощью linestyle или ls"
   ]
  },
  {
   "cell_type": "code",
   "execution_count": null,
   "metadata": {},
   "outputs": [],
   "source": [
    "fig, axes = plt.subplots(figsize=(13,8))\n",
    "\n",
    "axes.plot(x, x, color='red', linewidth=0.5)\n",
    "axes.plot(x, x+1, color='red', linewidth=1)\n",
    "axes.plot(x, x+2, color='red', linewidth=1.5)\n",
    "axes.plot(x, x+3, color='blue', lw=2.5)\n",
    "axes.plot(x, x+4, color='blue', lw=5)\n",
    "\n",
    "axes.plot(x, x+6, color='black', linestyle='--', lw=2.5)\n",
    "axes.plot(x, x+7, color='black', ls=':', lw=5)\n",
    "axes.plot(x, x+8, color='black', linestyle='-.', lw=2.5)"
   ]
  },
  {
   "cell_type": "markdown",
   "metadata": {},
   "source": [
    "## Контроль за осями\n",
    "Мы имеем контроль над содержимым каждого объекта осей и можем показывать только то, что необходимо.\n",
    "\n",
    "По умолчанию график помещается внутри осей так, чтобы были небольшие поля.\n",
    "\n",
    "Методы set_ylim и set_xlim, задают границы осей (чтобы расширить область графика или наоборот обрезать её)"
   ]
  },
  {
   "cell_type": "code",
   "execution_count": null,
   "metadata": {},
   "outputs": [],
   "source": [
    "fig, axes = plt.subplots(1, 2,figsize=(13,8))\n",
    "\n",
    "axes[0].plot(x, f(x), x, g(x))\n",
    "axes[1].plot(x, f(x), x, g(x))\n",
    "\n",
    "axes[1].set_ylim(0, 3)\n",
    "axes[1].set_xlim(0.5, 1.5)"
   ]
  },
  {
   "cell_type": "markdown",
   "metadata": {},
   "source": [
    "Больше о подписях - https://matplotlib.org/api/ticker_api.html"
   ]
  },
  {
   "cell_type": "markdown",
   "metadata": {},
   "source": [
    "## Подпись на графике\n",
    "Метод text()\n",
    "https://matplotlib.org/3.1.1/api/_as_gen/matplotlib.pyplot.text.html"
   ]
  },
  {
   "cell_type": "markdown",
   "metadata": {},
   "source": [
    "Больше информации о легенде https://matplotlib.org/3.1.1/tutorials/intermediate/legend_guide.html"
   ]
  },
  {
   "cell_type": "code",
   "execution_count": null,
   "metadata": {},
   "outputs": [],
   "source": []
  },
  {
   "cell_type": "markdown",
   "metadata": {},
   "source": [
    "# Plotly\n",
    "\n",
    "Plotly - библиотека для визуализации данных, состоящая из нескольких частей:\n",
    "\n",
    "- Front-End на JS\n",
    "\n",
    "- Back-End на Python (за основу взята библиотека Seaborn)\n",
    "\n",
    "- Back-End на R\n",
    "\n",
    "Документация - https://plotly.com/graphing-libraries/\n",
    "\n",
    "Так же на базе plotly и веб-сервера Flask существует специальная библиотека для создания дашбордов Dash - https://dash.plotly.com/\n",
    "\n",
    "- **Plotly - бесплатная библиотека, которую вы можете использовать в коммерческих целях**\n",
    "\n",
    "- Plotly работает offline\n",
    "\n",
    "- Plotly позволяет строить **интерактивные** визуализации\n",
    "\n",
    "Т.е. с помощью Plotly можно как изучать какие-то данные \"на лету\" (не перестраивая график в matplotlib, изменяя масштаб, включая/выключая какие-то данные), так и построить полноценный интерактивный отчёт (дашборд).\n",
    "\n",
    "\n",
    "Для начала необходимо установить библиотеку, т.к. она не входит ни в стандартный пакет, ни в Anaconda. Для этого рекомендуется использовать pip:\n",
    "\n",
    "<code>pip install plotly</code>\n",
    "\n",
    "Если вы используете Jupyter Notebook, то можно использовать мэджик \"!\", поставив данный символ перед командой:\n",
    "\n",
    "<code>!pip install plotly</code>"
   ]
  },
  {
   "cell_type": "code",
   "execution_count": null,
   "metadata": {},
   "outputs": [],
   "source": []
  },
  {
   "cell_type": "code",
   "execution_count": null,
   "metadata": {},
   "outputs": [],
   "source": []
  },
  {
   "cell_type": "code",
   "execution_count": null,
   "metadata": {},
   "outputs": [],
   "source": [
    "!pip install plotly"
   ]
  },
  {
   "cell_type": "markdown",
   "metadata": {},
   "source": [
    "Перед началом работы необходимо импортировать модуль. В разных частях урока для разных задач нам понадобятся как основной модуль, так и один из его подмодулей, поэтому полный набор инструкций импорта у нас:\n",
    "\n",
    "<code>\n",
    "import plotly\n",
    "import plotly.graph_objs as go\n",
    "import plotly.express as px\n",
    "\n",
    "</code>\n",
    "\n",
    "https://plotly.com/python-api-reference/generated/plotly.graph_objects.Figure.html\n",
    "\n",
    "\n",
    "Так же нам понадобятся библиотеки Pandas и Numpy для работы с сырыми данными"
   ]
  },
  {
   "cell_type": "code",
   "execution_count": null,
   "metadata": {},
   "outputs": [],
   "source": [
    "import plotly\n",
    "import plotly.graph_objs as go\n",
    "import plotly.express as px\n",
    "\n",
    "\n",
    "#import numpy as np\n",
    "import pandas as pd"
   ]
  },
  {
   "cell_type": "markdown",
   "metadata": {},
   "source": [
    "## Линейный график\n",
    "\n",
    "Начнём с простой задачи построения графика по точкам. \n",
    "\n",
    "Используем функцию $f(x) = x^2$\n",
    "\n",
    "Сперва поступим совсем просто и \"в лоб\":\n",
    "\n",
    "- Создадим график с помощью функции scatter из подмодуля plotly.express (внутрь передадим 2 списка точек: координаты X и Y)\n",
    "\n",
    "- Тут же \"покажем\" его с помощью метода show()\n",
    "\n",
    "Обратите внимание - график интерактивный, если навести на него курсор, то можно его приближать и удалять, выделять участки, по наведению курсора на точку получать подробную информацию, возвращать картинку в исходное положение, а при необходимости \"скриншотить\" и сохранять как файл.\n",
    "\n",
    "Всё это делается с помощью JS в вашем браузере."
   ]
  },
  {
   "cell_type": "code",
   "execution_count": null,
   "metadata": {},
   "outputs": [],
   "source": [
    "x = np.arange(0, 5, 0.1)\n",
    "def f(x):\n",
    "    return x**2\n",
    "\n",
    "px.scatter(x=x, y=f(x)).show()"
   ]
  },
  {
   "cell_type": "markdown",
   "metadata": {},
   "source": [
    "Более читабельно и правильно записать тот же в код в следующем виде:\n",
    "\n",
    "<code>fig = px.scatter(x=x, y=f(x))\n",
    "fig.show()</code>\n",
    "\n",
    "- Создаём фигуру\n",
    "- Рисуем график\n",
    "- Показываем фигуру\n",
    "\n",
    "2 строчки и готовый результат. Т.к. мы используем Express. Быстро и просто.\n",
    "\n",
    "*В отличие от Matplotlib отдельные объекты осей не создаются, хотя с ними можно столкнуться, когда захотим построить несколько графиков вместе*\n",
    "\n",
    "<code>fig = go.Figure()\n",
    "#Здесь будет код\n",
    "fig.show()</code>"
   ]
  },
  {
   "cell_type": "code",
   "execution_count": null,
   "metadata": {},
   "outputs": [],
   "source": [
    "fig = go.Figure()\n",
    "#Здесь будет код\n",
    "fig.show()"
   ]
  },
  {
   "cell_type": "markdown",
   "metadata": {},
   "source": [
    "Как видим, пока пусто.\n",
    "\n",
    "Чтобы добавить что на график нам понадобится метод фигуры add_trace.\n",
    "\n",
    "<code>fig.add_trace(ТУТ ТО ЧТО ХОТИМ ПЕРЕДАТЬ ДЛЯ ОТОБРАЖЕНИЯ И ГДЕ)</code>\n",
    "\n",
    "Но ЧТО мы хотим нарисовать? График по точкам. График мы уже рисовали с помощью Scatter в Экспрессе, у Объектов есть свой Scatter, давайте посмотрим, что он делает:\n",
    "\n",
    "<code>go.Scatter(x=x, y=f(x))</code>"
   ]
  },
  {
   "cell_type": "code",
   "execution_count": null,
   "metadata": {},
   "outputs": [],
   "source": []
  },
  {
   "cell_type": "markdown",
   "metadata": {},
   "source": [
    "А теперь объединим:\n",
    "    \n",
    "<code>fig = go.Figure()\n",
    "fig.add_trace(go.Scatter(x=x, y=f(x)))\n",
    "fig.show()</code>"
   ]
  },
  {
   "cell_type": "code",
   "execution_count": null,
   "metadata": {},
   "outputs": [],
   "source": []
  },
  {
   "cell_type": "markdown",
   "metadata": {},
   "source": [
    "Можем вывести несколько кривых"
   ]
  },
  {
   "cell_type": "code",
   "execution_count": null,
   "metadata": {},
   "outputs": [],
   "source": [
    "fig = go.Figure()\n",
    "fig.add_trace(go.Scatter(x=x, y=f(x)))\n",
    "fig.add_trace(go.Scatter(x=x, y=x))\n",
    "fig.show()"
   ]
  },
  {
   "cell_type": "markdown",
   "metadata": {},
   "source": [
    "Погодите, что это такое? Справа появилась ещё и легенда!\n",
    "\n",
    "Впрочем, логично, пока график был один, зачем нам легенда?\n",
    "\n",
    "Но магия Plotly тут не заканчивается. Нажмите на любую из подписей в легенде и соответствующий график исчезнет, а надпись станет более бледной. Вернуть их позволит повторный клик.\n",
    "\n",
    "**Подписи графиков**\n",
    "\n",
    "Добавим атрибут name, в который передадим строку с именем графика, которое мы хотим отображать в легенде.\n",
    "\n",
    "Plotly поддерживает LATEX в подписях (аналогично matplotlib через использование $$ с обеих сторон)."
   ]
  },
  {
   "cell_type": "code",
   "execution_count": null,
   "metadata": {},
   "outputs": [],
   "source": [
    "fig = go.Figure()\n",
    "fig.add_trace(go.Scatter(x=x, y=f(x), name='$$f(x)=x^2$$'))\n",
    "fig.add_trace(go.Scatter(x=x, y=x, name='$$g(x)=x$$'))\n",
    "fig.show()"
   ]
  },
  {
   "cell_type": "markdown",
   "metadata": {},
   "source": [
    "К сожалению, это имеет свои ограничения, как можно заметить подсказка при наведении на график отображается в \"сыром\" виде, а не в LATEX.\n",
    "\n",
    "Победить это можно, если использовать HTML разметку в подписях. В данном примере я буду использовать тег <a href=\"http://htmlbook.ru/html/sup\">sup</a>. Так же заметьте, что шрифт для LATEX и HTML отличается начертанием."
   ]
  },
  {
   "cell_type": "code",
   "execution_count": null,
   "metadata": {},
   "outputs": [],
   "source": [
    "fig = go.Figure()\n",
    "fig.add_trace(go.Scatter(x=x, y=f(x), name='f(x)=x<sup>2</sup>'))\n",
    "fig.add_trace(go.Scatter(x=x, y=x, name='$$g(x)=x$$'))\n",
    "fig.show()"
   ]
  },
  {
   "cell_type": "markdown",
   "metadata": {},
   "source": [
    "С увеличением длины подписи графика, легенда начала наезжать на график. Мне это не нравится, поэтому перенесём легенду вниз.\n",
    "\n",
    "Для этого применим к фигуре метод update_layout, у которого нас интересует атрибут legend_orientation\n",
    "<code>fig.update_layout(legend_orientation=\"h\")</code>"
   ]
  },
  {
   "cell_type": "code",
   "execution_count": null,
   "metadata": {},
   "outputs": [],
   "source": []
  },
  {
   "cell_type": "markdown",
   "metadata": {},
   "source": [
    "Хорошо, но слишком большая часть рабочего пространства ноутбука не используется. Особенно это заметно сверху - большой отступ сверху до поля графика.\n",
    "\n",
    "По умолчанию поля графика имеют отступ 20 пикселей. Мы можем задать свои значения отступам с помощью update_layout, у которого есть атрибут margin, принимающий словарь из отступов:\n",
    "\n",
    "- l - отступ слева\n",
    "- r - отступ справа\n",
    "- t - отступ сверху\n",
    "- b - отступ снизу\n",
    "\n",
    "Зададим везде нулевые отступы\n",
    "<code>fig.update_layout(margin=dict(l=0, r=0, t=0, b=0))</code>\n",
    "\n",
    "*update_layout можно применять последовательно несколько раз, либо можно передать все аргументы в одну функцию (мы сделаем именно так)*"
   ]
  },
  {
   "cell_type": "code",
   "execution_count": null,
   "metadata": {},
   "outputs": [],
   "source": []
  },
  {
   "cell_type": "markdown",
   "metadata": {},
   "source": [
    "Поскольку подписи в легенде короткие, мне не нравится, что они расположены слева. Я бы предпочёл выровнять их по центру.\n",
    "\n",
    "Для этого можно использовать у update_layout атрибут legend, куда передать словарь с координатами для сдвига (*сдвиг может быть и по вертикали, но мы используем только горизонталь*).\n",
    "\n",
    "Сдвиг задаётся в долях от ширины всей фигуры, но важно помнить, что сдвигается левый край легенды. Т.е. если мы укажем 0.5 (*50% ширины*), то надпись будет на самом деле чуть сдвинута вправо.\n",
    "\n",
    "*Т.к. реальная ширина зависит от особенностей вашего экрана, браузера, шрифтов и т.п., то этот параметр часто приходится подгонять. Лично у меня для этого примера неплохо работает 0.43.*\n",
    "\n",
    "Чтобы не шаманить с шириной, можно легенду относительно точки сдвига с помощью аргумента xanchor.\n",
    "\n",
    "В итоге для легенды мы получим такой словарь:\n",
    "\n",
    "<code>legend=dict(x=.5, xanchor=\"center\")</code>"
   ]
  },
  {
   "cell_type": "code",
   "execution_count": null,
   "metadata": {},
   "outputs": [],
   "source": [
    "fig = go.Figure()\n",
    "fig.add_trace(go.Scatter(x=x, y=f(x),  name='f(x)=x<sup>2</sup>'))\n",
    "fig.add_trace(go.Scatter(x=x, y=x, name='$$g(x)=x$$'))\n",
    "fig.update_layout(legend_orientation=\"h\",\n",
    "                  legend=dict(x=.5, xanchor=\"center\"),\n",
    "                  margin=dict(l=0, r=0, t=0, b=0))\n",
    "fig.show()"
   ]
  },
  {
   "cell_type": "markdown",
   "metadata": {},
   "source": [
    "Стоит сразу задать подписи к осям и графику в целом. Для этого нам вновь понадобится update_layout, у которого добавится 3 новых аргумента:\n",
    "\n",
    "<code>title=\"Plot Title\",\n",
    "xaxis_title=\"x Axis Title\",\n",
    "yaxis_title=\"y Axis Title\",</code>\n",
    "    \n",
    "*Следует заметить, что сдвиги, которые мы задали ранее могут негавтивно сказаться на читаемости подписей (так заголовок графика вообще вытесняется из области видимости, поэтому я увеличу отступ сверху с 0 до 30 пикселей*"
   ]
  },
  {
   "cell_type": "code",
   "execution_count": null,
   "metadata": {},
   "outputs": [],
   "source": [
    "fig = go.Figure()\n",
    "fig.add_trace(go.Scatter(x=x, y=f(x),  name='f(x)=x<sup>2</sup>'))\n",
    "fig.add_trace(go.Scatter(x=x, y=x, name='$$g(x)=x$$'))\n",
    "fig.update_layout(legend_orientation=\"h\",\n",
    "                  legend=dict(x=.5, xanchor=\"center\"),\n",
    "                  title=\"Plot Title\",\n",
    "                  xaxis_title=\"x Axis Title\",\n",
    "                  yaxis_title=\"y Axis Title\",\n",
    "                  margin=dict(l=0, r=0, t=30, b=0))\n",
    "fig.show()"
   ]
  },
  {
   "cell_type": "code",
   "execution_count": null,
   "metadata": {},
   "outputs": [],
   "source": []
  },
  {
   "cell_type": "code",
   "execution_count": null,
   "metadata": {},
   "outputs": [],
   "source": []
  },
  {
   "cell_type": "code",
   "execution_count": null,
   "metadata": {},
   "outputs": [],
   "source": []
  },
  {
   "cell_type": "code",
   "execution_count": null,
   "metadata": {},
   "outputs": [],
   "source": [
    "#Подключаем модули\n",
    "import pandas as pd\n"
   ]
  },
  {
   "cell_type": "code",
   "execution_count": 2,
   "metadata": {},
   "outputs": [],
   "source": [
    "\n"
   ]
  },
  {
   "cell_type": "markdown",
   "metadata": {},
   "source": [
    "# Часть 1. Подготовим данные для визуализации #"
   ]
  },
  {
   "cell_type": "markdown",
   "metadata": {},
   "source": [
    "Скачать датасет можно по адресу https://drive.google.com/file/d/1zy9JKp-bTfF0gRYkGl-g0X4o72NAhl1u/view"
   ]
  },
  {
   "cell_type": "code",
   "execution_count": null,
   "metadata": {},
   "outputs": [],
   "source": [
    "#загрузка файла в pandas\n",
    "\n",
    "df = pd.read_csv('train.csv')"
   ]
  },
  {
   "cell_type": "code",
   "execution_count": null,
   "metadata": {},
   "outputs": [],
   "source": [
    "#вывод первых 10 строк\n",
    "\n",
    "df.head(10)\n"
   ]
  },
  {
   "cell_type": "markdown",
   "metadata": {},
   "source": [
    "## Метод drop()\n",
    "\n",
    "df.drop([название элементов], axis = 1 или 0, inplace = True)\n",
    "axis = 1, если нужно удалить столбцы\n",
    "axis = 0, если нужно удалить строки\n",
    "inplace = True - удаляем элементы из самой переменной\n",
    "inplace = False - просто показывается результат изменения, не изменяя переменной, к которой применяется метод"
   ]
  },
  {
   "cell_type": "code",
   "execution_count": null,
   "metadata": {},
   "outputs": [],
   "source": [
    "#Удаляем столбцы, в которых нет ценной для нас информации\n",
    "df.drop(['PassengerId', 'Name', 'Ticket', 'Cabin'],axis = 1, inplace = True)"
   ]
  },
  {
   "cell_type": "markdown",
   "metadata": {},
   "source": [
    "## Функция round()\n",
    "Позволяет выполнить округление\n",
    "\n",
    "round(имя_df[название_колонки], количество знаков]"
   ]
  },
  {
   "cell_type": "code",
   "execution_count": null,
   "metadata": {},
   "outputs": [],
   "source": [
    "df['Fare'] = round(df['Fare'], 2)\n"
   ]
  },
  {
   "cell_type": "code",
   "execution_count": null,
   "metadata": {},
   "outputs": [],
   "source": [
    "df['Embarked'].fillna('No data', inplace = True)"
   ]
  },
  {
   "cell_type": "code",
   "execution_count": null,
   "metadata": {
    "scrolled": true
   },
   "outputs": [],
   "source": []
  },
  {
   "cell_type": "markdown",
   "metadata": {},
   "source": [
    "## Заполняем пустые значения о возрасте"
   ]
  },
  {
   "cell_type": "code",
   "execution_count": null,
   "metadata": {},
   "outputs": [],
   "source": [
    "# Cредние арифметические в зависимости от класса каюты\n",
    "age_1 = df[df['Pclass'] == 1]['Age'].median()\n",
    "age_2 = df[df['Pclass'] == 2]['Age'].median()\n",
    "age_3 = df[df['Pclass'] == 3]['Age'].median()"
   ]
  },
  {
   "cell_type": "code",
   "execution_count": null,
   "metadata": {},
   "outputs": [],
   "source": [
    "#Функция fill_age()\n",
    "def fill_age(row):\n",
    "    if pd.isnull(row['Age']):\n",
    "        if row['Pclass'] == 1:\n",
    "            return age_1\n",
    "        if row['Pclass'] == 2:\n",
    "            return age_2\n",
    "        return age_3\n",
    "    return row['Age']"
   ]
  },
  {
   "cell_type": "code",
   "execution_count": null,
   "metadata": {},
   "outputs": [],
   "source": [
    "df['Age'] = df.apply(fill_age,axis = 1)"
   ]
  },
  {
   "cell_type": "markdown",
   "metadata": {},
   "source": [
    "\n",
    "### Создаем новый столбец с информацией о том, был ли пассажир на борту один или с родственниками\n"
   ]
  },
  {
   "cell_type": "code",
   "execution_count": null,
   "metadata": {},
   "outputs": [],
   "source": [
    "# Способ 1: с помощью именной функции и apply\n",
    "def is_alone(row):\n",
    "    if row['SibSp']+row['Parch'] == 0:\n",
    "        return 'Один'\n",
    "    return 'не один'\n"
   ]
  },
  {
   "cell_type": "code",
   "execution_count": null,
   "metadata": {},
   "outputs": [],
   "source": [
    "df['Alone'] = df.apply(is_alone, axis = 1)"
   ]
  },
  {
   "cell_type": "code",
   "execution_count": null,
   "metadata": {},
   "outputs": [],
   "source": [
    "df.head()"
   ]
  },
  {
   "cell_type": "markdown",
   "metadata": {},
   "source": [
    "## Начинаем рисовать! ##"
   ]
  },
  {
   "cell_type": "code",
   "execution_count": null,
   "metadata": {},
   "outputs": [],
   "source": [
    "fig = plt.figure()\n",
    "axes = fig.add_axes([0,0,1,1])\n"
   ]
  },
  {
   "cell_type": "markdown",
   "metadata": {},
   "source": [
    "## Гистограмма распределения признаков ##"
   ]
  },
  {
   "cell_type": "code",
   "execution_count": null,
   "metadata": {},
   "outputs": [],
   "source": [
    "# Рисуем диаграмму, отображающую распределение пассажиров по возрасту\n",
    "fig = plt.figure()\n",
    "axes = fig.add_axes([0, 0, 1, 1])\n",
    "axes.hist(df['Age'], bins = 20)\n",
    "#Добавляем подписи\n",
    "axes.set_title('Распределение пассажиров по возрасту')\n",
    "axes.set_xlabel('Возраст пассажиров')\n",
    "axes.set_ylabel('Количество пассажиров')"
   ]
  },
  {
   "cell_type": "code",
   "execution_count": null,
   "metadata": {},
   "outputs": [],
   "source": [
    "# Рисуем гистограмму, отображающую соотношение выживших и погибших\n",
    "fig = plt.figure()\n",
    "axes = fig.add_axes([0, 0, 0.5, 1])\n",
    "axes.hist(df['Survived'])"
   ]
  },
  {
   "cell_type": "code",
   "execution_count": null,
   "metadata": {},
   "outputs": [],
   "source": [
    "# Рисуем диаграмму, отображающую соотношение выживших и погибших\n",
    "fig = plt.figure()\n",
    "axes = fig.add_axes([0, 0, 0.6, 1])\n",
    "axes.bar(x = ['Погибли','Выжили'], height = df['Survived'].value_counts())"
   ]
  },
  {
   "cell_type": "markdown",
   "metadata": {},
   "source": [
    "## Задание"
   ]
  },
  {
   "cell_type": "code",
   "execution_count": null,
   "metadata": {},
   "outputs": [],
   "source": [
    "# Рисуем график зависимости стоимости билета от возраста пассажира\n",
    "#Вспоминаем метод scatter, аргументы х - столбец Age, у - столбец Fare \n"
   ]
  },
  {
   "cell_type": "code",
   "execution_count": null,
   "metadata": {},
   "outputs": [],
   "source": [
    "# Рисуем диаграмму, отображающую распределение стоимости билетов в зависимости от класса\n",
    "fig = plt.figure()\n",
    "axes = fig.add_axes([0, 0, 1, 1])\n",
    "#axes.set_ylim(0,200)\n",
    "sns.boxplot(x = df['Pclass'], y = df['Fare'])\n",
    "# Добавьте поясняющие подписи\n",
    "#х -'Класс каюты'\n",
    "#у - 'Стоимость билета'"
   ]
  },
  {
   "cell_type": "markdown",
   "metadata": {},
   "source": [
    "## Рисуем несколько графиков в одном ##"
   ]
  },
  {
   "cell_type": "code",
   "execution_count": null,
   "metadata": {},
   "outputs": [],
   "source": [
    "classes = df[df['Fare'] > 0].groupby(by = 'Pclass')['Fare'].agg(['min','max']).reset_index()\n",
    "classes['Pclass'] = classes['Pclass'].apply(lambda x: {1:'Первый класс', 2:'Второй класс', 3:'Третий класс'}[x])\n",
    "classes"
   ]
  },
  {
   "cell_type": "code",
   "execution_count": null,
   "metadata": {},
   "outputs": [],
   "source": [
    "survived = df.groupby(by = 'Pclass')['Survived'].agg('mean').reset_index()\n",
    "survived['Pclass'] = survived['Pclass'].apply(lambda x: {1:'Первый класс', 2:'Второй класс', 3:'Третий класс'}[x])\n",
    "survived"
   ]
  },
  {
   "cell_type": "code",
   "execution_count": null,
   "metadata": {},
   "outputs": [],
   "source": [
    "# Рисуем график, отображающий минимальную и максимальную стоимость билета по классам (в виде столбиковой диаграммы)\n",
    "# и долю выживших по классам в виде линейного графика (все в одной системе координат)\n",
    "fig = plt.figure()\n",
    "axes = fig.add_axes([0, 0, 1.5, 1])\n",
    "axes.set_ylim(0,200)\n",
    "axes.bar(x = classes['Pclass'],\n",
    "         height = classes['max'], \n",
    "         width = -0.4, \n",
    "         align = 'edge', \n",
    "         label = 'Максимальная стоимость билета')\n",
    "axes.bar(x = classes['Pclass'],\n",
    "         height = classes['min'], \n",
    "         width = 0.4,\n",
    "         align = 'edge', \n",
    "         label = 'Минимальная стоимость билета')\n",
    "axes.legend()\n",
    "\n",
    "axes2 = axes.twinx()\n",
    "axes2.set_ylim(0,1)\n",
    "axes2.plot(survived['Pclass'], survived['Survived'], color = 'red', linewidth = 10)\n",
    "axes2.grid(axis = 'y')"
   ]
  },
  {
   "cell_type": "markdown",
   "metadata": {},
   "source": [
    "## Добавляем график в график ##"
   ]
  },
  {
   "cell_type": "markdown",
   "metadata": {},
   "source": [
    "## Задание"
   ]
  },
  {
   "cell_type": "code",
   "execution_count": null,
   "metadata": {},
   "outputs": [],
   "source": [
    "# Сравниваем распределение по возрасту и по стоимости билета, метод hist() axes1 - 0,0,1,1; axes2 - 0.6,0.6,0.38,0.38\n",
    "fig = plt.figure()\n",
    "\n"
   ]
  },
  {
   "cell_type": "code",
   "execution_count": null,
   "metadata": {},
   "outputs": [],
   "source": [
    "# Строим график, показывающий гистограмму стоимости билета в целом и по классам\n",
    "fig = plt.figure()\n",
    "axes = fig.add_axes([0, 0, 1.4, 1.2])\n",
    "axes.set_ylim(0,1600)\n",
    "axes1 = fig.add_axes([0.1, 0.8, 0.35, 0.32])\n",
    "axes2 = fig.add_axes([0.55, 0.8, 0.35, 0.32])\n",
    "axes3 = fig.add_axes([1, 0.8, 0.35, 0.32])\n",
    "axes.hist(df['Fare'])\n",
    "axes1.hist(df[df['Pclass'] == 1]['Fare'])\n",
    "axes1.set_title('Стоимость билетов в первом классе')\n",
    "#Дописать для второго и третьего классов"
   ]
  },
  {
   "cell_type": "code",
   "execution_count": null,
   "metadata": {},
   "outputs": [],
   "source": [
    "# Строим график, показывающий гистограмму стоимости билета в целом и по классам\n",
    "fig = plt.figure()\n",
    "axes = fig.add_axes([0, 0, 1.4, 1.5])\n",
    "axes.set_xlim(0,900)\n",
    "axes1 = fig.add_axes([0.9, 0.1, 0.35, 0.3])\n",
    "axes2 = fig.add_axes([0.9, 0.55, 0.35, 0.3])\n",
    "axes3 = fig.add_axes([0.9, 1, 0.35, 0.3])\n",
    "axes.hist(df['Fare'])\n",
    "axes3.hist(df[df['Pclass'] == 1]['Fare'])\n",
    "axes3.set_title('Стоимость билетов в первом классе')\n",
    "axes2.hist(df[df['Pclass'] == 2]['Fare'])\n",
    "axes2.set_title('Стоимость билетов во втором классе')\n",
    "axes1.hist(df[df['Pclass'] == 3]['Fare'])\n",
    "axes1.set_title('Стоимость билетов в третьем классе')"
   ]
  },
  {
   "cell_type": "markdown",
   "metadata": {},
   "source": [
    "## Строим несколько графиков ##\n",
    "Задание: построить 3 графика, показывающих распределение стоимости билетов в трех классах в сравнении\n",
    "Необходимо получить следующий результат"
   ]
  },
  {
   "attachments": {
    "image.png": {
     "image/png": "[encoded data removed]"
    }
   },
   "cell_type": "markdown",
   "metadata": {},
   "source": [
    "![image.png](attachment:image.png)"
   ]
  },
  {
   "cell_type": "code",
   "execution_count": null,
   "metadata": {},
   "outputs": [],
   "source": [
    "fig = plt.figure(figsize = [8,12])\n",
    "axis1 = fig.add_subplot(3,1,1)\n",
    "axis2 = fig.add_subplot(3,1,2)\n",
    "axis3 = fig.add_subplot(3,1,3)\n",
    "\n"
   ]
  },
  {
   "cell_type": "markdown",
   "metadata": {},
   "source": [
    "## Использование параметра hue (Seaborn) ##"
   ]
  },
  {
   "cell_type": "code",
   "execution_count": null,
   "metadata": {},
   "outputs": [],
   "source": [
    "sns.pairplot(df)"
   ]
  },
  {
   "cell_type": "code",
   "execution_count": null,
   "metadata": {},
   "outputs": [],
   "source": [
    "sns.countplot(x = 'Pclass', hue = 'Survived', data = df)\n",
    "#sns.countplot(x = 'Pclass', data = df)"
   ]
  },
  {
   "cell_type": "markdown",
   "metadata": {},
   "source": [
    "# Plotly"
   ]
  },
  {
   "cell_type": "code",
   "execution_count": null,
   "metadata": {},
   "outputs": [],
   "source": []
  },
  {
   "cell_type": "code",
   "execution_count": null,
   "metadata": {},
   "outputs": [],
   "source": [
    "# Установка пакета выполняется только один раз!\n",
    "!pip install cufflinks"
   ]
  },
  {
   "cell_type": "code",
   "execution_count": null,
   "metadata": {},
   "outputs": [],
   "source": [
    "import cufflinks as cf\n",
    "from plotly.offline import download_plotlyjs, init_notebook_mode, plot, iplot"
   ]
  },
  {
   "cell_type": "code",
   "execution_count": null,
   "metadata": {},
   "outputs": [],
   "source": [
    "init_notebook_mode(connected = True)\n",
    "cf.go_offline()"
   ]
  },
  {
   "cell_type": "code",
   "execution_count": null,
   "metadata": {},
   "outputs": [],
   "source": [
    "df.iplot(kind = 'scatter', x = 'Age', y = 'Fare', mode = 'markers')"
   ]
  },
  {
   "cell_type": "code",
   "execution_count": null,
   "metadata": {},
   "outputs": [],
   "source": []
  }
 ],
 "metadata": {
  "kernelspec": {
   "display_name": "Python 3",
   "language": "python",
   "name": "python3"
  },
  "language_info": {
   "codemirror_mode": {
    "name": "ipython",
    "version": 3
   },
   "file_extension": ".py",
   "mimetype": "text/x-python",
   "name": "python",
   "nbconvert_exporter": "python",
   "pygments_lexer": "ipython3",
   "version": "3.7.4"
  }
 },
 "nbformat": 4,
 "nbformat_minor": 4
}
